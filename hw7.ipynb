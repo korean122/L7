{
  "nbformat": 4,
  "nbformat_minor": 0,
  "metadata": {
    "colab": {
      "name": "hw7.ipynb",
      "provenance": [],
      "collapsed_sections": []
    },
    "kernelspec": {
      "name": "python3",
      "display_name": "Python 3"
    },
    "language_info": {
      "name": "python"
    }
  },
  "cells": [
    {
      "cell_type": "markdown",
      "metadata": {
        "id": "YDwXwp5_6Gz3"
      },
      "source": [
        "**Задание 1**\n",
        "Печатные газеты использовали свой формат дат для каждого выпуска. Для каждой газеты из списка напишите формат указанной даты для перевода в объект datetime:\n",
        "- The Moscow Times - Wednesday, October 2, 2002\n",
        "- The Guardian - Friday, 11.10.13\n",
        "- Daily News - Thursday, 18 August 1977"
      ]
    },
    {
      "cell_type": "code",
      "metadata": {
        "id": "znk7fziPBNij"
      },
      "source": [
        "from datetime import datetime"
      ],
      "execution_count": null,
      "outputs": []
    },
    {
      "cell_type": "code",
      "metadata": {
        "id": "XoPRKjlt6Dor"
      },
      "source": [
        "data = ['The Moscow Times - Wednesday, October 2, 2002',\n",
        "        'The Guardian - Friday, 11.10.13',\n",
        "        'Daily News - Thursday, 18 August 1977']"
      ],
      "execution_count": null,
      "outputs": []
    },
    {
      "cell_type": "code",
      "metadata": {
        "colab": {
          "base_uri": "https://localhost:8080/"
        },
        "id": "mYgHSKJgYv8k",
        "outputId": "bb26e819-ba9e-4e57-e933-5edf63762127"
      },
      "source": [
        "only_data = []\n",
        "for item in data:\n",
        "    item_list = item.split(' - ')\n",
        "    only_data.append(item_list[1])\n",
        "print(only_data)"
      ],
      "execution_count": null,
      "outputs": [
        {
          "output_type": "stream",
          "text": [
            "['Wednesday, October 2, 2002', 'Friday, 11.10.13', 'Thursday, 18 August 1977']\n"
          ],
          "name": "stdout"
        }
      ]
    },
    {
      "cell_type": "markdown",
      "metadata": {
        "id": "B8sqa_ol-l8v"
      },
      "source": [
        "Что надо сделать - непонятно. В Slack написано:\n",
        "1. сделать список шаблонов дат\n",
        "2. в цикле for пройтись по этому списку и пробовать преобразовать дату по каждому шаблону\n",
        "3. Если strptime отрабатывает без ошибок, значит шаблон подошел, возвращаем датуи завершаем цикл, если НЕ подошел, то \"...дата не подходит ни под один формат...\"\n",
        "Дату на входе функции пропубем преобразовать по каждому шаблону. Подходит - возвращаем дату, не подходит, следующий шаблон. Если ни одитн не подошел, выдаем значение согласно заданию. Что значит согласно заданию? Непонятно. \n",
        "4. На вопрос какую дату - ответ - любую."
      ]
    },
    {
      "cell_type": "code",
      "metadata": {
        "colab": {
          "base_uri": "https://localhost:8080/"
        },
        "id": "dwmdCwYUcvxA",
        "outputId": "9813736a-f7e5-4eec-a282-16c175d056d5"
      },
      "source": [
        "dates = 'Wednesday, October 2, 2002'\n",
        "date_templates = ['%A, %B %d, %Y', '%A, %d.%m.%y', '%A, %d %B %Y']\n",
        "def is_castable_to_date(dates_):\n",
        "  \"\"\" \n",
        "  проверяет дату на соответствие формату, если соответствует выводит дату, иначе \"дата не подходит\"\n",
        "  \"\"\"\n",
        "  for p in date_templates:\n",
        "    try:\n",
        "      value = datetime.strptime(dates_, p).date()\n",
        "      #print(value)\n",
        "      return value\n",
        "    except:\n",
        "      pass\n",
        "    return (\"дата не подходит ни под один формат\")\n",
        "\n",
        "print(is_castable_to_date(dates)) #выводит не целиком"
      ],
      "execution_count": null,
      "outputs": [
        {
          "output_type": "stream",
          "text": [
            "2002-10-02\n"
          ],
          "name": "stdout"
        }
      ]
    },
    {
      "cell_type": "markdown",
      "metadata": {
        "id": "VXd5wq5j6YJZ"
      },
      "source": [
        "**Задание 2**\n",
        "Дан поток дат в формате YYYY-MM-DD, в которых встречаются некорректные значения:\n",
        "stream = [‘2018-04-02’, ‘2018-02-29’, ‘2018-19-02’]\n",
        "\n",
        "Напишите функцию, которая проверяет эти даты на корректность. Т. е. для каждой даты возвращает True (дата корректна) или False (некорректная дата)."
      ]
    },
    {
      "cell_type": "code",
      "metadata": {
        "id": "eekS3I8I6iqK",
        "colab": {
          "base_uri": "https://localhost:8080/"
        },
        "outputId": "bcb5ba65-bca8-46f8-a64e-3418da8e6340"
      },
      "source": [
        "stream = ['2018-04-02', '2018-02-29', '2018-19-02']\n",
        "def check_date(dates):\n",
        "  \"\"\" проверяет правильность введенных дат \"\"\"\n",
        "\n",
        "  for date in stream:\n",
        "    try:\n",
        "        date_check = datetime.strptime(date, '%Y-%m-%d')\n",
        "        print(f\"{date} = TRUE\")\n",
        "    except:\n",
        "        print(f\"{date} = FALSE\")\n",
        "check_date(stream)"
      ],
      "execution_count": null,
      "outputs": [
        {
          "output_type": "stream",
          "text": [
            "2018-04-02 = TRUE\n",
            "2018-02-29 = FALSE\n",
            "2018-19-02 = FALSE\n"
          ],
          "name": "stdout"
        }
      ]
    },
    {
      "cell_type": "markdown",
      "metadata": {
        "id": "YY7Otb_46ja5"
      },
      "source": [
        "**Задание 3**\n",
        "Напишите функцию date_range, которая возвращает список дат за период от start_date до end_date. Даты должны вводиться в формате YYYY-MM-DD. В случае неверного формата или при start_date > end_date должен возвращаться пустой список."
      ]
    },
    {
      "cell_type": "code",
      "metadata": {
        "id": "iwCIykMB6ohI",
        "colab": {
          "base_uri": "https://localhost:8080/"
        },
        "outputId": "5dc616f6-62a9-46fe-dd91-72142a2f2d3e"
      },
      "source": [
        "from datetime import timedelta\n",
        "\n",
        "start_date = '2018-01-01'\n",
        "end_date = '2018-01-07'\n",
        "def date_range(start_d,end_d):\n",
        "    try:\n",
        "        start_d_datetime = datetime.strptime(start_d, '%Y-%m-%d')\n",
        "        end_d_datetime = datetime.strptime(end_d, '%Y-%m-%d')\n",
        "        if start_d_datetime < end_d_datetime:\n",
        "            while start_d_datetime <= end_d_datetime:\n",
        "                print(start_d_datetime.strftime('%Y-%m-%d'))\n",
        "                start_d_datetime = start_d_datetime + timedelta(days=1)\n",
        "        else:\n",
        "            return ('Дата начала меньше даты завершения')\n",
        "    except:\n",
        "        return ('Неверный формат даты')\n",
        "date_range(start_date,end_date)"
      ],
      "execution_count": null,
      "outputs": [
        {
          "output_type": "stream",
          "text": [
            "2018-01-01\n",
            "2018-01-02\n",
            "2018-01-03\n",
            "2018-01-04\n",
            "2018-01-05\n",
            "2018-01-06\n",
            "2018-01-07\n"
          ],
          "name": "stdout"
        }
      ]
    },
    {
      "cell_type": "markdown",
      "metadata": {
        "id": "16TpPhIM6ozJ"
      },
      "source": [
        "**Задание 4 (бонусное)**\n",
        "Ваш коллега прислал код функции:\n",
        "DEFAULT_USER_COUNT = 3\n",
        "def delete_and_return_last_user(region, default_list=[‘A100’, ‘A101’, ‘A102’]):\n",
        "\"\"“\n",
        "Удаляет из списка default_list последнего пользователя\n",
        "и возвращает ID нового последнего пользователя.\n",
        "”\"\"\n",
        "element_to_delete = default_list[-1]\n",
        "default_list.remove(element_to_delete)\n",
        "return default_list[DEFAULT_USER_COUNT-2]\n",
        "При однократном вызове этой функции все работает корректно:\n",
        "delete_and_return_last_user(1)\n",
        "‘A101’\n",
        "\n",
        "Однако, при повторном вызове получается ошибка IndexError: list index out of range.\n",
        "\n",
        "Задание:\n",
        "\n",
        "Что значит ошибка list index out of range?\n",
        "Почему при первом запуске функция работает корректно, а при втором - нет?\n",
        "Важно! замечание к заданию.\n",
        "\n",
        "**** Для зачета достаточно сделать три задания! (четвертое бонусное)****"
      ]
    },
    {
      "cell_type": "code",
      "metadata": {
        "id": "auG8Ts5Z7Jbo"
      },
      "source": [
        "DEFAULT_USER_COUNT = 3\n",
        "def delete_and_return_last_user(region, default_list=[‘A100’, ‘A101’, ‘A102’]):\n",
        "\"\"\"\n",
        "Удаляет из списка default_list последнего пользователя\n",
        "и возвращает ID нового последнего пользователя.\n",
        "\"\"\"\n",
        "element_to_delete = default_list[-1]\n",
        "default_list.remove(element_to_delete)\n",
        "\n",
        "return default_list[DEFAULT_USER_COUNT-2]"
      ],
      "execution_count": null,
      "outputs": []
    }
  ]
}