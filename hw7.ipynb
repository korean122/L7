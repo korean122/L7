{
 "cells": [
  {
   "cell_type": "markdown",
   "metadata": {
    "id": "YDwXwp5_6Gz3"
   },
   "source": [
    "**Задание 1**\n",
    "Печатные газеты использовали свой формат дат для каждого выпуска. Для каждой газеты из списка напишите формат указанной даты для перевода в объект datetime:\n",
    "- The Moscow Times - Wednesday, October 2, 2002\n",
    "- The Guardian - Friday, 11.10.13\n",
    "- Daily News - Thursday, 18 August 1977"
   ]
  },
  {
   "cell_type": "code",
   "execution_count": null,
   "metadata": {
    "id": "znk7fziPBNij"
   },
   "outputs": [],
   "source": [
    "from datetime import datetime"
   ]
  },
  {
   "cell_type": "markdown",
   "metadata": {
    "id": "B8sqa_ol-l8v"
   },
   "source": [
    "Что надо сделать - непонятно. Нагугленные решения в github простые, но непонятные с точки зрения \"Зачем\". В Slack задан аналогичный вопрос. В ответе написано:\n",
    "1. сделать список шаблонов дат\n",
    "2. в цикле for пройтись по этому списку и пробовать преобразовать дату по каждому шаблону\n",
    "3. Если strptime отрабатывает без ошибок, значит шаблон подошел, возвращаем дату и завершаем цикл, если НЕ подошел, то \"...дата не подходит ни под один формат...\"\n",
    "Дату на входе функции пропубем преобразовать по каждому шаблону. Подходит - возвращаем дату, не подходит, следующий шаблон. Если ни один не подошел, выдаем значение согласно заданию. Что значит согласно заданию? Непонятно. \n",
    "4. На вопрос какую дату - ответ - любую."
   ]
  },
  {
   "cell_type": "code",
   "execution_count": 1,
   "metadata": {},
   "outputs": [
    {
     "name": "stdout",
     "output_type": "stream",
     "text": [
      "2002-10-02 00:00:00\n",
      "2013-10-11 00:00:00\n",
      "1977-08-18 00:00:00\n"
     ]
    }
   ],
   "source": [
    "#Большинство решений студентов.\n",
    "from datetime import datetime\n",
    "\n",
    "date_moscow_times = 'Wednesday, October 2, 2002'\n",
    "date_guardian = 'Friday, 11.10.13'\n",
    "date_daily_news = 'Thursday, 18 August 1977'\n",
    "\n",
    "d_mt = datetime.strptime(date_moscow_times, '%A, %B %d, %Y')\n",
    "d_g = datetime.strptime(date_guardian, '%A, %d.%m.%y')\n",
    "d_dn = datetime.strptime(date_daily_news, '%A, %d %B %Y')\n",
    "\n",
    "print(d_mt)\n",
    "print(d_g)\n",
    "print(d_dn)"
   ]
  },
  {
   "cell_type": "markdown",
   "metadata": {},
   "source": [
    "Решение как я понял запись в Slack. "
   ]
  },
  {
   "cell_type": "code",
   "execution_count": null,
   "metadata": {
    "colab": {
     "base_uri": "https://localhost:8080/"
    },
    "id": "dwmdCwYUcvxA",
    "outputId": "9813736a-f7e5-4eec-a282-16c175d056d5"
   },
   "outputs": [
    {
     "name": "stdout",
     "output_type": "stream",
     "text": [
      "2002-10-02\n"
     ]
    }
   ],
   "source": [
    "dates = 'Wednesday, October 2, 2002'\n",
    "date_templates = ['%A, %B %d, %Y', '%A, %d.%m.%y', '%A, %d %B %Y']\n",
    "def is_castable_to_date(dates_):\n",
    "  \"\"\" \n",
    "  проверяет дату на соответствие формату, если соответствует выводит дату, иначе \"дата не подходит\"\n",
    "  \"\"\"\n",
    "  for p in date_templates:\n",
    "    try:\n",
    "      value = datetime.strptime(dates_, p).date()\n",
    "      #print(value)\n",
    "      return value\n",
    "    except:\n",
    "      pass\n",
    "    return (\"дата не подходит ни под один формат\")\n",
    "\n",
    "print(is_castable_to_date(dates)) #выводит не целиком"
   ]
  },
  {
   "cell_type": "markdown",
   "metadata": {
    "id": "VXd5wq5j6YJZ"
   },
   "source": [
    "**Задание 2**\n",
    "Дан поток дат в формате YYYY-MM-DD, в которых встречаются некорректные значения:\n",
    "stream = [‘2018-04-02’, ‘2018-02-29’, ‘2018-19-02’]\n",
    "\n",
    "Напишите функцию, которая проверяет эти даты на корректность. Т. е. для каждой даты возвращает True (дата корректна) или False (некорректная дата)."
   ]
  },
  {
   "cell_type": "code",
   "execution_count": null,
   "metadata": {
    "colab": {
     "base_uri": "https://localhost:8080/"
    },
    "id": "eekS3I8I6iqK",
    "outputId": "bcb5ba65-bca8-46f8-a64e-3418da8e6340"
   },
   "outputs": [
    {
     "name": "stdout",
     "output_type": "stream",
     "text": [
      "2018-04-02 = TRUE\n",
      "2018-02-29 = FALSE\n",
      "2018-19-02 = FALSE\n"
     ]
    }
   ],
   "source": [
    "stream = ['2018-04-02', '2018-02-29', '2018-19-02']\n",
    "def check_date(dates):\n",
    "  \"\"\" проверяет правильность введенных дат \"\"\"\n",
    "\n",
    "  for date in stream:\n",
    "    try:\n",
    "        date_check = datetime.strptime(date, '%Y-%m-%d')\n",
    "        print(f\"{date} = TRUE\")\n",
    "    except:\n",
    "        print(f\"{date} = FALSE\")\n",
    "check_date(stream)"
   ]
  },
  {
   "cell_type": "markdown",
   "metadata": {
    "id": "YY7Otb_46ja5"
   },
   "source": [
    "**Задание 3**\n",
    "Напишите функцию date_range, которая возвращает список дат за период от start_date до end_date. Даты должны вводиться в формате YYYY-MM-DD. В случае неверного формата или при start_date > end_date должен возвращаться пустой список."
   ]
  },
  {
   "cell_type": "code",
   "execution_count": null,
   "metadata": {
    "colab": {
     "base_uri": "https://localhost:8080/"
    },
    "id": "iwCIykMB6ohI",
    "outputId": "5dc616f6-62a9-46fe-dd91-72142a2f2d3e"
   },
   "outputs": [
    {
     "name": "stdout",
     "output_type": "stream",
     "text": [
      "2018-01-01\n",
      "2018-01-02\n",
      "2018-01-03\n",
      "2018-01-04\n",
      "2018-01-05\n",
      "2018-01-06\n",
      "2018-01-07\n"
     ]
    }
   ],
   "source": [
    "from datetime import timedelta\n",
    "\n",
    "start_date = '2018-01-01'\n",
    "end_date = '2018-01-07'\n",
    "def date_range(start_d,end_d):\n",
    "    try:\n",
    "        start_d_datetime = datetime.strptime(start_d, '%Y-%m-%d')\n",
    "        end_d_datetime = datetime.strptime(end_d, '%Y-%m-%d')\n",
    "        if start_d_datetime < end_d_datetime:\n",
    "            while start_d_datetime <= end_d_datetime:\n",
    "                print(start_d_datetime.strftime('%Y-%m-%d'))\n",
    "                start_d_datetime = start_d_datetime + timedelta(days=1)\n",
    "        else:\n",
    "            return ('Дата начала меньше даты завершения')\n",
    "    except:\n",
    "        return ('Неверный формат даты')\n",
    "date_range(start_date,end_date)"
   ]
  },
  {
   "cell_type": "markdown",
   "metadata": {
    "id": "16TpPhIM6ozJ"
   },
   "source": [
    "**Задание 4 (бонусное)**\n",
    "Ваш коллега прислал код функции:\n",
    "DEFAULT_USER_COUNT = 3\n",
    "def delete_and_return_last_user(region, default_list=[‘A100’, ‘A101’, ‘A102’]):\n",
    "\"\"“\n",
    "Удаляет из списка default_list последнего пользователя\n",
    "и возвращает ID нового последнего пользователя.\n",
    "”\"\"\n",
    "element_to_delete = default_list[-1]\n",
    "default_list.remove(element_to_delete)\n",
    "return default_list[DEFAULT_USER_COUNT-2]\n",
    "При однократном вызове этой функции все работает корректно:\n",
    "delete_and_return_last_user(1)\n",
    "‘A101’\n",
    "\n",
    "Однако, при повторном вызове получается ошибка IndexError: list index out of range.\n",
    "\n",
    "Задание:\n",
    "\n",
    "Что значит ошибка list index out of range?\n",
    "Почему при первом запуске функция работает корректно, а при втором - нет?\n",
    "Важно! замечание к заданию.\n",
    "\n",
    "**** Для зачета достаточно сделать три задания! (четвертое бонусное)****"
   ]
  },
  {
   "cell_type": "code",
   "execution_count": 8,
   "metadata": {
    "id": "auG8Ts5Z7Jbo"
   },
   "outputs": [
    {
     "ename": "NameError",
     "evalue": "name 'default_list' is not defined",
     "output_type": "error",
     "traceback": [
      "\u001b[1;31m---------------------------------------------------------------------------\u001b[0m",
      "\u001b[1;31mNameError\u001b[0m                                 Traceback (most recent call last)",
      "\u001b[1;32m<ipython-input-8-1ae18905c56c>\u001b[0m in \u001b[0;36m<module>\u001b[1;34m\u001b[0m\n\u001b[0;32m      5\u001b[0m     \u001b[0mи\u001b[0m \u001b[0mвозвращает\u001b[0m \u001b[0mID\u001b[0m \u001b[0mнового\u001b[0m \u001b[0mпоследнего\u001b[0m \u001b[0mпользователя\u001b[0m\u001b[1;33m.\u001b[0m\u001b[1;33m\u001b[0m\u001b[1;33m\u001b[0m\u001b[0m\n\u001b[0;32m      6\u001b[0m     \"\"\"\n\u001b[1;32m----> 7\u001b[1;33m \u001b[0melement_to_delete\u001b[0m \u001b[1;33m=\u001b[0m \u001b[0mdefault_list\u001b[0m\u001b[1;33m[\u001b[0m\u001b[1;33m-\u001b[0m\u001b[1;36m1\u001b[0m\u001b[1;33m]\u001b[0m\u001b[1;33m\u001b[0m\u001b[1;33m\u001b[0m\u001b[0m\n\u001b[0m\u001b[0;32m      8\u001b[0m \u001b[0mdefault_list\u001b[0m\u001b[1;33m.\u001b[0m\u001b[0mremove\u001b[0m\u001b[1;33m(\u001b[0m\u001b[0melement_to_delete\u001b[0m\u001b[1;33m)\u001b[0m\u001b[1;33m\u001b[0m\u001b[1;33m\u001b[0m\u001b[0m\n\u001b[0;32m      9\u001b[0m \u001b[1;33m\u001b[0m\u001b[0m\n",
      "\u001b[1;31mNameError\u001b[0m: name 'default_list' is not defined"
     ]
    }
   ],
   "source": [
    "DEFAULT_USER_COUNT = 3\n",
    "def delete_and_return_last_user(region, default_list = ['A100', 'A101', 'A102']):\n",
    "    \"\"\"\n",
    "    Удаляет из списка default_list последнего пользователя\n",
    "    и возвращает ID нового последнего пользователя.\n",
    "    \"\"\"\n",
    "element_to_delete = default_list[-1]\n",
    "default_list.remove(element_to_delete)\n",
    "\n",
    "return default_list[DEFAULT_USER_COUNT-2]"
   ]
  },
  {
   "cell_type": "code",
   "execution_count": null,
   "metadata": {},
   "outputs": [],
   "source": [
    "Ну во-первых, у меня с первого раза появляется совершенно другая ошибка\n",
    "File \"<ipython-input-2-ec9da67a5e3a>\", line 2\n",
    "    def delete_and_return_last_user(region, default_list=[‘A100’, ‘A101’, ‘A102’]):\n",
    "                                                               ^\n",
    "SyntaxError: invalid character in identifier\n",
    "Эта ошибка судя по всему связана с кавычками другого типа. \n",
    "\n",
    "После этого возникает другая ошибка\n",
    "---------------------------------------------------------------------------\n",
    "NameError                                 Traceback (most recent call last)\n",
    "<ipython-input-4-223f03ecae47> in <module>\n",
    "      5     и возвращает ID нового последнего пользователя.\n",
    "      6     \"\"\"\n",
    "----> 7 element_to_delete = default_list[-1]\n",
    "      8 default_list.remove(element_to_delete)\n",
    "      9 \n",
    "\n",
    "NameError: name 'default_list' is not defined\n",
    "почему я так и не смог понять.\n",
    "\n",
    "А ошибка в вопросе list index out of range судя по всему возникает из-за перебора индекса значений после которых идет удаление.  \n"
   ]
  }
 ],
 "metadata": {
  "colab": {
   "collapsed_sections": [],
   "name": "hw7.ipynb",
   "provenance": []
  },
  "kernelspec": {
   "display_name": "Python 3",
   "language": "python",
   "name": "python3"
  },
  "language_info": {
   "codemirror_mode": {
    "name": "ipython",
    "version": 3
   },
   "file_extension": ".py",
   "mimetype": "text/x-python",
   "name": "python",
   "nbconvert_exporter": "python",
   "pygments_lexer": "ipython3",
   "version": "3.8.8"
  }
 },
 "nbformat": 4,
 "nbformat_minor": 1
}
